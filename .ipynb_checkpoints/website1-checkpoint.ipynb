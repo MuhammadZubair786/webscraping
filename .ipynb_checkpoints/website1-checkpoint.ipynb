{
 "cells": [
  {
   "cell_type": "code",
   "execution_count": 7,
   "id": "58c31447",
   "metadata": {},
   "outputs": [
    {
     "name": "stdout",
     "output_type": "stream",
     "text": [
      "[]\n",
      "<p class=\"mt-2 text-sm text-gray-500 md:text-base\">Confused on which course to take? I have got you covered. Browse courses and find out the best course for you. Its free! Code With Harry is my attempt to teach basics and those coding techniques to people in short time which took me ages to learn.</p>\n"
     ]
    }
   ],
   "source": [
    "import requests\n",
    "from bs4 import BeautifulSoup\n",
    "url = \"https://codewithharry.com\"\n",
    "r = requests.get(url)\t\t# r variable has all the HTML code\n",
    "htmlContent = r.content\t# r returns response so if we want the code we write r.content\n",
    "# print(htmlContent)\t\t# printing the code\n",
    "\n",
    "htmlText = r.text\n",
    "# print(htmlText)\n",
    "\n",
    "soup = BeautifulSoup(r.content, 'html.parser')\n",
    "\n",
    "# print(soup.prettify)\n",
    "data = soup.find_all(\"code\")\n",
    "print(data)\n",
    "\n",
    "print(soup.find('p')) \n",
    "\n",
    "\n"
   ]
  },
  {
   "cell_type": "code",
   "execution_count": 8,
   "id": "28d63989",
   "metadata": {},
   "outputs": [
    {
     "name": "stdout",
     "output_type": "stream",
     "text": [
      "[<p class=\"mt-2 text-sm text-gray-500 md:text-base\">Confused on which course to take? I have got you covered. Browse courses and find out the best course for you. Its free! Code With Harry is my attempt to teach basics and those coding techniques to people in short time which took me ages to learn.</p>, <p class=\"text-gray-700 text-base\">Complete Tailwind CSS Course by CodeWithHarry in Hindi - Learn Tailwind CSS from scratch for free! </p>, <p class=\"text-gray-700 text-base\">Complete Next.js Course by CodeWithHarry in Hindi - Learn Next.js from Scratch.</p>, <p class=\"text-gray-700 text-base\">React is a free and open-source front-end JavaScript library. This series will cover React from starting to the end. We will learn react from the ground up!</p>, <p class=\"leading-relaxed mb-6\">I don't have words to thank this man, I'm really grateful to have this channel and website in my daily routine. If you're a mere beginner, then you can trust this guy and can put your time into his content. I can assure you that it'll be worth it.</p>, <p class=\"leading-relaxed mb-6\">For everyone who wants to level up their #Coding and #Dev skills - seriously, this channel is for you! Both basic and advanced stacks are covered on this channel, and one can learn according to his skill levels. And the icing on the cake is, everything is available for free.</p>, <p class=\"text-sm text-gray-500 sm:ml-4 sm:pl-4 sm:border-l-2 sm:border-gray-200 sm:py-2 mt-4 md:mt-2 mb-2 md:mb-0 text-center\">Copyright © 2022 CodeWithHarry.com</p>]\n"
     ]
    }
   ],
   "source": [
    "paras = soup.find_all('p')\n",
    "print(paras)"
   ]
  },
  {
   "cell_type": "code",
   "execution_count": 9,
   "id": "c4e331c0",
   "metadata": {},
   "outputs": [
    {
     "data": {
      "text/plain": [
       "<p class=\"text-gray-700 text-base\">Complete Next.js Course by CodeWithHarry in Hindi - Learn Next.js from Scratch.</p>"
      ]
     },
     "execution_count": 9,
     "metadata": {},
     "output_type": "execute_result"
    }
   ],
   "source": [
    "paras[2]"
   ]
  },
  {
   "cell_type": "code",
   "execution_count": 10,
   "id": "066b4dbd",
   "metadata": {},
   "outputs": [
    {
     "name": "stdout",
     "output_type": "stream",
     "text": [
      "<p class=\"mt-2 text-sm text-gray-500 md:text-base\">Confused on which course to take? I have got you covered. Browse courses and find out the best course for you. Its free! Code With Harry is my attempt to teach basics and those coding techniques to people in short time which took me ages to learn.</p>\n",
      "<p class=\"text-gray-700 text-base\">Complete Tailwind CSS Course by CodeWithHarry in Hindi - Learn Tailwind CSS from scratch for free! </p>\n",
      "<p class=\"text-gray-700 text-base\">Complete Next.js Course by CodeWithHarry in Hindi - Learn Next.js from Scratch.</p>\n",
      "<p class=\"text-gray-700 text-base\">React is a free and open-source front-end JavaScript library. This series will cover React from starting to the end. We will learn react from the ground up!</p>\n",
      "<p class=\"leading-relaxed mb-6\">I don't have words to thank this man, I'm really grateful to have this channel and website in my daily routine. If you're a mere beginner, then you can trust this guy and can put your time into his content. I can assure you that it'll be worth it.</p>\n",
      "<p class=\"leading-relaxed mb-6\">For everyone who wants to level up their #Coding and #Dev skills - seriously, this channel is for you! Both basic and advanced stacks are covered on this channel, and one can learn according to his skill levels. And the icing on the cake is, everything is available for free.</p>\n",
      "<p class=\"text-sm text-gray-500 sm:ml-4 sm:pl-4 sm:border-l-2 sm:border-gray-200 sm:py-2 mt-4 md:mt-2 mb-2 md:mb-0 text-center\">Copyright © 2022 CodeWithHarry.com</p>\n"
     ]
    }
   ],
   "source": [
    "for i in paras:\n",
    "    print(i)"
   ]
  },
  {
   "cell_type": "code",
   "execution_count": 11,
   "id": "14023c63",
   "metadata": {},
   "outputs": [
    {
     "name": "stdout",
     "output_type": "stream",
     "text": [
      "[]\n"
     ]
    }
   ],
   "source": [
    "print(soup.find_all(\"p\", class_=\"lead\"))"
   ]
  },
  {
   "cell_type": "code",
   "execution_count": 12,
   "id": "efbf10e3",
   "metadata": {},
   "outputs": [
    {
     "name": "stdout",
     "output_type": "stream",
     "text": [
      "[<p class=\"mt-2 text-sm text-gray-500 md:text-base\">Confused on which course to take? I have got you covered. Browse courses and find out the best course for you. Its free! Code With Harry is my attempt to teach basics and those coding techniques to people in short time which took me ages to learn.</p>]\n"
     ]
    }
   ],
   "source": [
    "print(soup.find_all(\"p\", class_=\"mt-2\"))"
   ]
  },
  {
   "cell_type": "code",
   "execution_count": 13,
   "id": "c9db37ec",
   "metadata": {},
   "outputs": [
    {
     "name": "stdout",
     "output_type": "stream",
     "text": [
      "[]\n"
     ]
    }
   ],
   "source": [
    "print(soup.find_all(class_=\"code-toolbar\"))"
   ]
  },
  {
   "cell_type": "code",
   "execution_count": 14,
   "id": "0750848d",
   "metadata": {},
   "outputs": [
    {
     "name": "stdout",
     "output_type": "stream",
     "text": [
      "None\n"
     ]
    }
   ],
   "source": [
    "print(soup.find(id='qna'))"
   ]
  },
  {
   "cell_type": "code",
   "execution_count": 15,
   "id": "bfc9f548",
   "metadata": {},
   "outputs": [
    {
     "data": {
      "text/plain": [
       "'Confused on which course to take? I have got you covered. Browse courses and find out the best course for you. Its free! Code With Harry is my attempt to teach basics and those coding techniques to people in short time which took me ages to learn.'"
      ]
     },
     "execution_count": 15,
     "metadata": {},
     "output_type": "execute_result"
    }
   ],
   "source": [
    "soup.find('p').get_text()"
   ]
  },
  {
   "cell_type": "code",
   "execution_count": 19,
   "id": "46c37a89",
   "metadata": {},
   "outputs": [
    {
     "data": {
      "text/plain": [
       "'React is a free and open-source front-end JavaScript library. This series will cover React from starting to the end. We will learn react from the ground up!'"
      ]
     },
     "execution_count": 19,
     "metadata": {},
     "output_type": "execute_result"
    }
   ],
   "source": [
    "soup.find_all('p')[3].get_text()"
   ]
  },
  {
   "cell_type": "code",
   "execution_count": 20,
   "id": "de274ab8",
   "metadata": {},
   "outputs": [],
   "source": [
    "anchors = soup.find_all('a')"
   ]
  },
  {
   "cell_type": "code",
   "execution_count": 21,
   "id": "b6b7e160",
   "metadata": {},
   "outputs": [
    {
     "data": {
      "text/plain": [
       "[<a href=\"/\">CodeWithHarry</a>,\n",
       " <a href=\"/\">Home</a>,\n",
       " <a href=\"/videos/\">Courses</a>,\n",
       " <a href=\"/tutorial/html-home/\">Tutorial</a>,\n",
       " <a href=\"/blogs/\">Blog</a>,\n",
       " <a href=\"/contact/\">Contact</a>,\n",
       " <a href=\"/tutorial/html-home/\">HTML</a>,\n",
       " <a href=\"/tutorial/css-home/\">CSS</a>,\n",
       " <a href=\"/tutorial/js/\">JS</a>,\n",
       " <a href=\"/tutorial/c/\">C</a>,\n",
       " <a href=\"/tutorial/cplusplus/\">C++</a>,\n",
       " <a href=\"/tutorial/java/\">JAVA</a>,\n",
       " <a href=\"/tutorial/python/\">PYTHON</a>,\n",
       " <a href=\"/tutorial/tailwind/\">TAILWIND</a>,\n",
       " <a href=\"/tutorial/reactjs/\">REACTJS</a>,\n",
       " <a href=\"/tutorial/nextjs/\">NEXTJS</a>,\n",
       " <a href=\"/\">Home</a>,\n",
       " <a href=\"/videos/\">Courses</a>,\n",
       " <a href=\"/tutorial/html-home/\">HTML</a>,\n",
       " <a href=\"/tutorial/css-home/\">CSS</a>,\n",
       " <a href=\"/tutorial/js/\">JS</a>,\n",
       " <a href=\"/tutorial/c/\">C</a>,\n",
       " <a href=\"/tutorial/cplusplus/\">C++</a>,\n",
       " <a href=\"/tutorial/java/\">JAVA</a>,\n",
       " <a href=\"/tutorial/python/\">PYTHON</a>,\n",
       " <a href=\"/tutorial/tailwind/\">TAILWIND</a>,\n",
       " <a href=\"/tutorial/reactjs/\">REACTJS</a>,\n",
       " <a href=\"/tutorial/nextjs/\">NEXTJS</a>,\n",
       " <a href=\"/blogs/\">Blog</a>,\n",
       " <a href=\"/contact/\">Contact</a>,\n",
       " <a href=\"/work/\">WorkWithHarry</a>,\n",
       " <a class=\"text-gray-500\" href=\"https://www.facebook.com/codewithharry\" rel=\"noreferrer\" target=\"_blank\"><svg class=\"w-5 h-5\" fill=\"currentColor\" stroke-linecap=\"round\" stroke-linejoin=\"round\" stroke-width=\"2\" viewbox=\"0 0 24 24\"><path d=\"M18 2h-3a5 5 0 00-5 5v3H7v4h3v8h4v-8h3l1-4h-4V7a1 1 0 011-1h3z\"></path></svg></a>,\n",
       " <a class=\"ml-3 text-gray-500\" href=\"https://www.twitter.com/codewithharry\" rel=\"noreferrer\" target=\"_blank\"><svg class=\"w-5 h-5\" fill=\"currentColor\" stroke-linecap=\"round\" stroke-linejoin=\"round\" stroke-width=\"2\" viewbox=\"0 0 24 24\"><path d=\"M23 3a10.9 10.9 0 01-3.14 1.53 4.48 4.48 0 00-7.86 3v1A10.66 10.66 0 013 4s-4 9 5 13a11.64 11.64 0 01-7 2c9 5 20 0 20-11.5a4.5 4.5 0 00-.08-.83A7.72 7.72 0 0023 3z\"></path></svg></a>,\n",
       " <a class=\"ml-3 text-gray-500\" href=\"https://www.instagram.com/codewithharry\" rel=\"noreferrer\" target=\"_blank\"><svg class=\"w-5 h-5\" fill=\"none\" stroke=\"currentColor\" stroke-linecap=\"round\" stroke-linejoin=\"round\" stroke-width=\"2\" viewbox=\"0 0 24 24\"><rect height=\"20\" rx=\"5\" ry=\"5\" width=\"20\" x=\"2\" y=\"2\"></rect><path d=\"M16 11.37A4 4 0 1112.63 8 4 4 0 0116 11.37zm1.5-4.87h.01\"></path></svg></a>,\n",
       " <a class=\"ml-3 text-gray-500\" href=\"https://www.github.com/codewithharry\" rel=\"noreferrer\" target=\"_blank\"><svg class=\"text-xl\" fill=\"currentColor\" height=\"1em\" stroke=\"currentColor\" stroke-width=\"0\" viewbox=\"0 0 1024 1024\" width=\"1em\" xmlns=\"http://www.w3.org/2000/svg\"><path d=\"M511.6 76.3C264.3 76.2 64 276.4 64 523.5 64 718.9 189.3 885 363.8 946c23.5 5.9 19.9-10.8 19.9-22.2v-77.5c-135.7 15.9-141.2-73.9-150.3-88.9C215 726 171.5 718 184.5 703c30.9-15.9 62.4 4 98.9 57.9 26.4 39.1 77.9 32.5 104 26 5.7-23.5 17.9-44.5 34.7-60.8-140.6-25.2-199.2-111-199.2-213 0-49.5 16.3-95 48.3-131.7-20.4-60.5 1.9-112.3 4.9-120 58.1-5.2 118.5 41.6 123.2 45.3 33-8.9 70.7-13.6 112.9-13.6 42.4 0 80.2 4.9 113.5 13.9 11.3-8.6 67.3-48.8 121.3-43.9 2.9 7.7 24.7 58.3 5.5 118 32.4 36.8 48.9 82.7 48.9 132.3 0 102.2-59 188.1-200 212.9a127.5 127.5 0 0 1 38.1 91v112.5c.8 9 0 17.9 15 17.9 177.1-59.7 304.6-227 304.6-424.1 0-247.2-200.4-447.3-447.5-447.3z\"></path></svg></a>]"
      ]
     },
     "execution_count": 21,
     "metadata": {},
     "output_type": "execute_result"
    }
   ],
   "source": [
    "anchors"
   ]
  },
  {
   "cell_type": "code",
   "execution_count": 22,
   "id": "09fd96b7",
   "metadata": {},
   "outputs": [
    {
     "name": "stdout",
     "output_type": "stream",
     "text": [
      "None\n",
      "None\n",
      "None\n",
      "None\n",
      "None\n",
      "None\n",
      "None\n"
     ]
    }
   ],
   "source": [
    "for i in paras:\n",
    "    print(i.get('href'))"
   ]
  },
  {
   "cell_type": "code",
   "execution_count": 23,
   "id": "c5ad9fd8",
   "metadata": {},
   "outputs": [
    {
     "name": "stdout",
     "output_type": "stream",
     "text": [
      "[<div class=\"search-icon cursor-pointer px-6 hidden\" id=\"search-toggle\"><svg class=\"fill-current pointer-events-none text-grey-darkest w-4 h-4 inline\" viewbox=\"0 0 20 20\" xmlns=\"http://www.w3.org/2000/svg\"><path d=\"M12.9 14.32a8 8 0 1 1 1.41-1.41l5.35 5.33-1.42 1.42-5.33-5.34zM8 14A6 6 0 1 0 8 2a6 6 0 0 0 0 12z\"></path></svg></div>, <li class=\"mx-2 my-2 text-black hover:border-b-2 hover:border-purple-700\"><a href=\"/\">Home</a></li>, <li class=\"mx-2 my-2 text-black hover:border-b-2 hover:border-purple-700\"><a href=\"/videos/\">Courses</a></li>, <li class=\"mx-2 my-2 text-black hover:border-b-2 hover:border-purple-700\"><a href=\"/tutorial/html-home/\">Tutorial</a></li>, <li class=\"mx-2 my-2 text-black hover:border-b-2 hover:border-purple-700\"><a href=\"/blogs/\">Blog</a></li>, <li class=\"mx-2 my-2 text-black hover:border-b-2 hover:border-purple-700\"><a href=\"/contact/\">Contact</a></li>, <button class=\"ml-2 text-white bg-purple-700 hover:bg-purple-800 focus:ring-4 focus:ring-purple-300 font-medium rounded-lg text-sm px-3 py-2 text-center inline-flex items-center\">WorkWithHarry</button>]\n"
     ]
    }
   ],
   "source": [
    "ul = soup.find(\"ul\")\n",
    "print(ul.contents)"
   ]
  },
  {
   "cell_type": "code",
   "execution_count": 24,
   "id": "3f26eb5e",
   "metadata": {},
   "outputs": [
    {
     "data": {
      "text/plain": [
       "<div class=\"search-icon cursor-pointer px-6 hidden\" id=\"search-toggle\"><svg class=\"fill-current pointer-events-none text-grey-darkest w-4 h-4 inline\" viewbox=\"0 0 20 20\" xmlns=\"http://www.w3.org/2000/svg\"><path d=\"M12.9 14.32a8 8 0 1 1 1.41-1.41l5.35 5.33-1.42 1.42-5.33-5.34zM8 14A6 6 0 1 0 8 2a6 6 0 0 0 0 12z\"></path></svg></div>"
      ]
     },
     "execution_count": 24,
     "metadata": {},
     "output_type": "execute_result"
    }
   ],
   "source": [
    "ul.contents[0]"
   ]
  },
  {
   "cell_type": "code",
   "execution_count": null,
   "id": "3df60c0b",
   "metadata": {},
   "outputs": [],
   "source": []
  }
 ],
 "metadata": {
  "kernelspec": {
   "display_name": "Python 3",
   "language": "python",
   "name": "python3"
  },
  "language_info": {
   "codemirror_mode": {
    "name": "ipython",
    "version": 3
   },
   "file_extension": ".py",
   "mimetype": "text/x-python",
   "name": "python",
   "nbconvert_exporter": "python",
   "pygments_lexer": "ipython3",
   "version": "3.8.8"
  }
 },
 "nbformat": 4,
 "nbformat_minor": 5
}
